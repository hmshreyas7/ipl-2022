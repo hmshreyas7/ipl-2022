{
 "cells": [
  {
   "cell_type": "code",
   "execution_count": 1,
   "metadata": {
    "_cell_guid": "b1076dfc-b9ad-4769-8c92-a6c4dae69d19",
    "_uuid": "8f2839f25d086af736a60e9eeb907d3b93b6e0e5",
    "execution": {
     "iopub.execute_input": "2022-05-24T10:24:13.675524Z",
     "iopub.status.busy": "2022-05-24T10:24:13.675145Z",
     "iopub.status.idle": "2022-05-24T10:24:15.599302Z",
     "shell.execute_reply": "2022-05-24T10:24:15.598558Z",
     "shell.execute_reply.started": "2022-05-24T10:24:13.675451Z"
    }
   },
   "outputs": [],
   "source": [
    "import pandas as pd\n",
    "from keras.models import Sequential\n",
    "from keras.layers import Dense, LSTM, Dropout, Masking\n",
    "from sklearn.model_selection import train_test_split\n",
    "from sklearn import metrics\n",
    "import matplotlib.pyplot as plt\n",
    "\n",
    "import tensorflow as tf\n",
    "tf.config.run_functions_eagerly(True)\n",
    "tf.data.experimental.enable_debug_mode()"
   ]
  },
  {
   "cell_type": "markdown",
   "metadata": {},
   "source": [
    "## Data preparation"
   ]
  },
  {
   "cell_type": "code",
   "execution_count": 2,
   "metadata": {
    "execution": {
     "iopub.execute_input": "2022-05-24T10:24:15.605593Z",
     "iopub.status.busy": "2022-05-24T10:24:15.605105Z",
     "iopub.status.idle": "2022-05-24T10:24:15.638638Z",
     "shell.execute_reply": "2022-05-24T10:24:15.637868Z",
     "shell.execute_reply.started": "2022-05-24T10:24:15.605556Z"
    }
   },
   "outputs": [
    {
     "data": {
      "text/html": [
       "<div>\n",
       "<style scoped>\n",
       "    .dataframe tbody tr th:only-of-type {\n",
       "        vertical-align: middle;\n",
       "    }\n",
       "\n",
       "    .dataframe tbody tr th {\n",
       "        vertical-align: top;\n",
       "    }\n",
       "\n",
       "    .dataframe thead th {\n",
       "        text-align: right;\n",
       "    }\n",
       "</style>\n",
       "<table border=\"1\" class=\"dataframe\">\n",
       "  <thead>\n",
       "    <tr style=\"text-align: right;\">\n",
       "      <th></th>\n",
       "      <th>season</th>\n",
       "      <th>team</th>\n",
       "      <th>matches</th>\n",
       "      <th>wins</th>\n",
       "      <th>points</th>\n",
       "      <th>nrr</th>\n",
       "      <th>position</th>\n",
       "      <th>nrr_rank</th>\n",
       "      <th>longest_winning_streak</th>\n",
       "      <th>longest_winless_streak</th>\n",
       "      <th>unique_match_winners</th>\n",
       "      <th>unique_match_winners_rank</th>\n",
       "      <th>is_top_4</th>\n",
       "      <th>is_top_2</th>\n",
       "      <th>is_champion</th>\n",
       "    </tr>\n",
       "  </thead>\n",
       "  <tbody>\n",
       "    <tr>\n",
       "      <th>0</th>\n",
       "      <td>2011</td>\n",
       "      <td>Chennai Super Kings</td>\n",
       "      <td>1</td>\n",
       "      <td>1</td>\n",
       "      <td>2</td>\n",
       "      <td>0.100</td>\n",
       "      <td>5</td>\n",
       "      <td>5</td>\n",
       "      <td>1</td>\n",
       "      <td>0</td>\n",
       "      <td>1</td>\n",
       "      <td>1</td>\n",
       "      <td>1</td>\n",
       "      <td>1</td>\n",
       "      <td>1.0</td>\n",
       "    </tr>\n",
       "    <tr>\n",
       "      <th>1</th>\n",
       "      <td>2011</td>\n",
       "      <td>Chennai Super Kings</td>\n",
       "      <td>2</td>\n",
       "      <td>1</td>\n",
       "      <td>2</td>\n",
       "      <td>-0.258</td>\n",
       "      <td>6</td>\n",
       "      <td>6</td>\n",
       "      <td>1</td>\n",
       "      <td>1</td>\n",
       "      <td>1</td>\n",
       "      <td>4</td>\n",
       "      <td>1</td>\n",
       "      <td>1</td>\n",
       "      <td>1.0</td>\n",
       "    </tr>\n",
       "    <tr>\n",
       "      <th>2</th>\n",
       "      <td>2011</td>\n",
       "      <td>Chennai Super Kings</td>\n",
       "      <td>3</td>\n",
       "      <td>2</td>\n",
       "      <td>4</td>\n",
       "      <td>0.181</td>\n",
       "      <td>5</td>\n",
       "      <td>6</td>\n",
       "      <td>1</td>\n",
       "      <td>1</td>\n",
       "      <td>2</td>\n",
       "      <td>1</td>\n",
       "      <td>1</td>\n",
       "      <td>1</td>\n",
       "      <td>1.0</td>\n",
       "    </tr>\n",
       "    <tr>\n",
       "      <th>3</th>\n",
       "      <td>2011</td>\n",
       "      <td>Chennai Super Kings</td>\n",
       "      <td>4</td>\n",
       "      <td>2</td>\n",
       "      <td>4</td>\n",
       "      <td>-0.097</td>\n",
       "      <td>6</td>\n",
       "      <td>6</td>\n",
       "      <td>1</td>\n",
       "      <td>1</td>\n",
       "      <td>2</td>\n",
       "      <td>3</td>\n",
       "      <td>1</td>\n",
       "      <td>1</td>\n",
       "      <td>1.0</td>\n",
       "    </tr>\n",
       "    <tr>\n",
       "      <th>4</th>\n",
       "      <td>2011</td>\n",
       "      <td>Chennai Super Kings</td>\n",
       "      <td>5</td>\n",
       "      <td>2</td>\n",
       "      <td>4</td>\n",
       "      <td>-0.157</td>\n",
       "      <td>8</td>\n",
       "      <td>7</td>\n",
       "      <td>1</td>\n",
       "      <td>2</td>\n",
       "      <td>2</td>\n",
       "      <td>3</td>\n",
       "      <td>1</td>\n",
       "      <td>1</td>\n",
       "      <td>1.0</td>\n",
       "    </tr>\n",
       "    <tr>\n",
       "      <th>...</th>\n",
       "      <td>...</td>\n",
       "      <td>...</td>\n",
       "      <td>...</td>\n",
       "      <td>...</td>\n",
       "      <td>...</td>\n",
       "      <td>...</td>\n",
       "      <td>...</td>\n",
       "      <td>...</td>\n",
       "      <td>...</td>\n",
       "      <td>...</td>\n",
       "      <td>...</td>\n",
       "      <td>...</td>\n",
       "      <td>...</td>\n",
       "      <td>...</td>\n",
       "      <td>...</td>\n",
       "    </tr>\n",
       "    <tr>\n",
       "      <th>1171</th>\n",
       "      <td>2022</td>\n",
       "      <td>Sunrisers Hyderabad</td>\n",
       "      <td>10</td>\n",
       "      <td>5</td>\n",
       "      <td>10</td>\n",
       "      <td>0.325</td>\n",
       "      <td>5</td>\n",
       "      <td>4</td>\n",
       "      <td>5</td>\n",
       "      <td>3</td>\n",
       "      <td>5</td>\n",
       "      <td>3</td>\n",
       "      <td>0</td>\n",
       "      <td>0</td>\n",
       "      <td>NaN</td>\n",
       "    </tr>\n",
       "    <tr>\n",
       "      <th>1172</th>\n",
       "      <td>2022</td>\n",
       "      <td>Sunrisers Hyderabad</td>\n",
       "      <td>11</td>\n",
       "      <td>5</td>\n",
       "      <td>10</td>\n",
       "      <td>-0.031</td>\n",
       "      <td>6</td>\n",
       "      <td>6</td>\n",
       "      <td>5</td>\n",
       "      <td>4</td>\n",
       "      <td>5</td>\n",
       "      <td>3</td>\n",
       "      <td>0</td>\n",
       "      <td>0</td>\n",
       "      <td>NaN</td>\n",
       "    </tr>\n",
       "    <tr>\n",
       "      <th>1173</th>\n",
       "      <td>2022</td>\n",
       "      <td>Sunrisers Hyderabad</td>\n",
       "      <td>12</td>\n",
       "      <td>5</td>\n",
       "      <td>10</td>\n",
       "      <td>-0.270</td>\n",
       "      <td>8</td>\n",
       "      <td>9</td>\n",
       "      <td>5</td>\n",
       "      <td>5</td>\n",
       "      <td>5</td>\n",
       "      <td>4</td>\n",
       "      <td>0</td>\n",
       "      <td>0</td>\n",
       "      <td>NaN</td>\n",
       "    </tr>\n",
       "    <tr>\n",
       "      <th>1174</th>\n",
       "      <td>2022</td>\n",
       "      <td>Sunrisers Hyderabad</td>\n",
       "      <td>13</td>\n",
       "      <td>6</td>\n",
       "      <td>12</td>\n",
       "      <td>-0.230</td>\n",
       "      <td>8</td>\n",
       "      <td>8</td>\n",
       "      <td>5</td>\n",
       "      <td>5</td>\n",
       "      <td>5</td>\n",
       "      <td>5</td>\n",
       "      <td>0</td>\n",
       "      <td>0</td>\n",
       "      <td>NaN</td>\n",
       "    </tr>\n",
       "    <tr>\n",
       "      <th>1175</th>\n",
       "      <td>2022</td>\n",
       "      <td>Sunrisers Hyderabad</td>\n",
       "      <td>14</td>\n",
       "      <td>6</td>\n",
       "      <td>12</td>\n",
       "      <td>-0.379</td>\n",
       "      <td>8</td>\n",
       "      <td>9</td>\n",
       "      <td>5</td>\n",
       "      <td>5</td>\n",
       "      <td>5</td>\n",
       "      <td>6</td>\n",
       "      <td>0</td>\n",
       "      <td>0</td>\n",
       "      <td>NaN</td>\n",
       "    </tr>\n",
       "  </tbody>\n",
       "</table>\n",
       "<p>1176 rows × 15 columns</p>\n",
       "</div>"
      ],
      "text/plain": [
       "      season                 team  matches  wins  points    nrr  position  \\\n",
       "0       2011  Chennai Super Kings        1     1       2  0.100         5   \n",
       "1       2011  Chennai Super Kings        2     1       2 -0.258         6   \n",
       "2       2011  Chennai Super Kings        3     2       4  0.181         5   \n",
       "3       2011  Chennai Super Kings        4     2       4 -0.097         6   \n",
       "4       2011  Chennai Super Kings        5     2       4 -0.157         8   \n",
       "...      ...                  ...      ...   ...     ...    ...       ...   \n",
       "1171    2022  Sunrisers Hyderabad       10     5      10  0.325         5   \n",
       "1172    2022  Sunrisers Hyderabad       11     5      10 -0.031         6   \n",
       "1173    2022  Sunrisers Hyderabad       12     5      10 -0.270         8   \n",
       "1174    2022  Sunrisers Hyderabad       13     6      12 -0.230         8   \n",
       "1175    2022  Sunrisers Hyderabad       14     6      12 -0.379         8   \n",
       "\n",
       "      nrr_rank  longest_winning_streak  longest_winless_streak  \\\n",
       "0            5                       1                       0   \n",
       "1            6                       1                       1   \n",
       "2            6                       1                       1   \n",
       "3            6                       1                       1   \n",
       "4            7                       1                       2   \n",
       "...        ...                     ...                     ...   \n",
       "1171         4                       5                       3   \n",
       "1172         6                       5                       4   \n",
       "1173         9                       5                       5   \n",
       "1174         8                       5                       5   \n",
       "1175         9                       5                       5   \n",
       "\n",
       "      unique_match_winners  unique_match_winners_rank  is_top_4  is_top_2  \\\n",
       "0                        1                          1         1         1   \n",
       "1                        1                          4         1         1   \n",
       "2                        2                          1         1         1   \n",
       "3                        2                          3         1         1   \n",
       "4                        2                          3         1         1   \n",
       "...                    ...                        ...       ...       ...   \n",
       "1171                     5                          3         0         0   \n",
       "1172                     5                          3         0         0   \n",
       "1173                     5                          4         0         0   \n",
       "1174                     5                          5         0         0   \n",
       "1175                     5                          6         0         0   \n",
       "\n",
       "      is_champion  \n",
       "0             1.0  \n",
       "1             1.0  \n",
       "2             1.0  \n",
       "3             1.0  \n",
       "4             1.0  \n",
       "...           ...  \n",
       "1171          NaN  \n",
       "1172          NaN  \n",
       "1173          NaN  \n",
       "1174          NaN  \n",
       "1175          NaN  \n",
       "\n",
       "[1176 rows x 15 columns]"
      ]
     },
     "execution_count": 2,
     "metadata": {},
     "output_type": "execute_result"
    }
   ],
   "source": [
    "data = pd.read_csv('ipl_prog_data_2022.csv')\n",
    "data"
   ]
  },
  {
   "cell_type": "code",
   "execution_count": 3,
   "metadata": {
    "execution": {
     "iopub.execute_input": "2022-05-24T10:24:15.640238Z",
     "iopub.status.busy": "2022-05-24T10:24:15.639972Z",
     "iopub.status.idle": "2022-05-24T10:24:15.645236Z",
     "shell.execute_reply": "2022-05-24T10:24:15.644456Z",
     "shell.execute_reply.started": "2022-05-24T10:24:15.640202Z"
    }
   },
   "outputs": [],
   "source": [
    "X, y = data.iloc[:-140, 2:-3], data.iloc[:-140, -1]"
   ]
  },
  {
   "cell_type": "code",
   "execution_count": 4,
   "metadata": {
    "execution": {
     "iopub.execute_input": "2022-05-24T10:24:15.647939Z",
     "iopub.status.busy": "2022-05-24T10:24:15.647503Z",
     "iopub.status.idle": "2022-05-24T10:24:15.657668Z",
     "shell.execute_reply": "2022-05-24T10:24:15.656849Z",
     "shell.execute_reply.started": "2022-05-24T10:24:15.647900Z"
    }
   },
   "outputs": [],
   "source": [
    "X_train, X_test, y_train, y_test = train_test_split(X, y, test_size = 224, shuffle = False)"
   ]
  },
  {
   "cell_type": "code",
   "execution_count": 5,
   "metadata": {
    "execution": {
     "iopub.execute_input": "2022-05-24T10:24:15.659697Z",
     "iopub.status.busy": "2022-05-24T10:24:15.659194Z",
     "iopub.status.idle": "2022-05-24T10:24:15.684895Z",
     "shell.execute_reply": "2022-05-24T10:24:15.684269Z",
     "shell.execute_reply.started": "2022-05-24T10:24:15.659605Z"
    }
   },
   "outputs": [],
   "source": [
    "X_test = X_test.reset_index(drop = True)\n",
    "y_train = y_train.groupby(y_train.index // 14).apply(lambda x: x.mean()).reset_index(drop = True)\n",
    "y_test = y_test.groupby(y_test.index // 14).apply(lambda x: x.mean()).reset_index(drop = True)"
   ]
  },
  {
   "cell_type": "code",
   "execution_count": 6,
   "metadata": {
    "execution": {
     "iopub.execute_input": "2022-05-24T10:24:15.686824Z",
     "iopub.status.busy": "2022-05-24T10:24:15.686473Z",
     "iopub.status.idle": "2022-05-24T10:24:15.691906Z",
     "shell.execute_reply": "2022-05-24T10:24:15.691156Z",
     "shell.execute_reply.started": "2022-05-24T10:24:15.686789Z"
    }
   },
   "outputs": [],
   "source": [
    "X_train = X_train.values.reshape((-1, 14, 10))\n",
    "y_train = y_train.values.reshape((-1, 1))"
   ]
  },
  {
   "cell_type": "markdown",
   "metadata": {},
   "source": [
    "\n",
    "## Model training"
   ]
  },
  {
   "cell_type": "code",
   "execution_count": 7,
   "metadata": {
    "execution": {
     "iopub.execute_input": "2022-05-24T10:24:15.694335Z",
     "iopub.status.busy": "2022-05-24T10:24:15.693723Z",
     "iopub.status.idle": "2022-05-24T10:24:17.419166Z",
     "shell.execute_reply": "2022-05-24T10:24:17.418382Z",
     "shell.execute_reply.started": "2022-05-24T10:24:15.694295Z"
    }
   },
   "outputs": [
    {
     "name": "stderr",
     "output_type": "stream",
     "text": [
      "2022-05-24 10:24:15.742227: I tensorflow/stream_executor/cuda/cuda_gpu_executor.cc:937] successful NUMA node read from SysFS had negative value (-1), but there must be at least one NUMA node, so returning NUMA node zero\n",
      "2022-05-24 10:24:15.751445: I tensorflow/stream_executor/cuda/cuda_gpu_executor.cc:937] successful NUMA node read from SysFS had negative value (-1), but there must be at least one NUMA node, so returning NUMA node zero\n",
      "2022-05-24 10:24:15.752118: I tensorflow/stream_executor/cuda/cuda_gpu_executor.cc:937] successful NUMA node read from SysFS had negative value (-1), but there must be at least one NUMA node, so returning NUMA node zero\n",
      "2022-05-24 10:24:15.753593: I tensorflow/core/platform/cpu_feature_guard.cc:142] This TensorFlow binary is optimized with oneAPI Deep Neural Network Library (oneDNN) to use the following CPU instructions in performance-critical operations:  AVX2 AVX512F FMA\n",
      "To enable them in other operations, rebuild TensorFlow with the appropriate compiler flags.\n",
      "2022-05-24 10:24:15.753926: I tensorflow/stream_executor/cuda/cuda_gpu_executor.cc:937] successful NUMA node read from SysFS had negative value (-1), but there must be at least one NUMA node, so returning NUMA node zero\n",
      "2022-05-24 10:24:15.754583: I tensorflow/stream_executor/cuda/cuda_gpu_executor.cc:937] successful NUMA node read from SysFS had negative value (-1), but there must be at least one NUMA node, so returning NUMA node zero\n",
      "2022-05-24 10:24:15.755242: I tensorflow/stream_executor/cuda/cuda_gpu_executor.cc:937] successful NUMA node read from SysFS had negative value (-1), but there must be at least one NUMA node, so returning NUMA node zero\n",
      "2022-05-24 10:24:16.350727: I tensorflow/stream_executor/cuda/cuda_gpu_executor.cc:937] successful NUMA node read from SysFS had negative value (-1), but there must be at least one NUMA node, so returning NUMA node zero\n",
      "2022-05-24 10:24:16.351516: I tensorflow/stream_executor/cuda/cuda_gpu_executor.cc:937] successful NUMA node read from SysFS had negative value (-1), but there must be at least one NUMA node, so returning NUMA node zero\n",
      "2022-05-24 10:24:16.352235: I tensorflow/stream_executor/cuda/cuda_gpu_executor.cc:937] successful NUMA node read from SysFS had negative value (-1), but there must be at least one NUMA node, so returning NUMA node zero\n",
      "2022-05-24 10:24:16.352827: I tensorflow/core/common_runtime/gpu/gpu_device.cc:1510] Created device /job:localhost/replica:0/task:0/device:GPU:0 with 15403 MB memory:  -> device: 0, name: Tesla P100-PCIE-16GB, pci bus id: 0000:00:04.0, compute capability: 6.0\n"
     ]
    },
    {
     "name": "stdout",
     "output_type": "stream",
     "text": [
      "Model: \"sequential\"\n",
      "_________________________________________________________________\n",
      "Layer (type)                 Output Shape              Param #   \n",
      "=================================================================\n",
      "masking (Masking)            (None, 14, 10)            0         \n",
      "_________________________________________________________________\n",
      "lstm (LSTM)                  (None, 32)                5504      \n",
      "_________________________________________________________________\n",
      "dropout (Dropout)            (None, 32)                0         \n",
      "_________________________________________________________________\n",
      "dense (Dense)                (None, 16)                528       \n",
      "_________________________________________________________________\n",
      "dropout_1 (Dropout)          (None, 16)                0         \n",
      "_________________________________________________________________\n",
      "dense_1 (Dense)              (None, 8)                 136       \n",
      "_________________________________________________________________\n",
      "dropout_2 (Dropout)          (None, 8)                 0         \n",
      "_________________________________________________________________\n",
      "dense_2 (Dense)              (None, 4)                 36        \n",
      "_________________________________________________________________\n",
      "dropout_3 (Dropout)          (None, 4)                 0         \n",
      "_________________________________________________________________\n",
      "dense_3 (Dense)              (None, 2)                 10        \n",
      "_________________________________________________________________\n",
      "dropout_4 (Dropout)          (None, 2)                 0         \n",
      "_________________________________________________________________\n",
      "dense_4 (Dense)              (None, 1)                 3         \n",
      "=================================================================\n",
      "Total params: 6,217\n",
      "Trainable params: 6,217\n",
      "Non-trainable params: 0\n",
      "_________________________________________________________________\n",
      "None\n"
     ]
    }
   ],
   "source": [
    "model = Sequential()\n",
    "model.add(Masking(mask_value = -10, input_shape = (14, 10)))\n",
    "model.add(LSTM(32))\n",
    "model.add(Dropout(0.2))\n",
    "model.add(Dense(16, activation = 'relu'))\n",
    "model.add(Dropout(0.2))\n",
    "model.add(Dense(8, activation = 'relu'))\n",
    "model.add(Dropout(0.2))\n",
    "model.add(Dense(4, activation = 'relu'))\n",
    "model.add(Dropout(0.2))\n",
    "model.add(Dense(2, activation = 'relu'))\n",
    "model.add(Dropout(0.2))\n",
    "model.add(Dense(1, activation = 'sigmoid'))\n",
    "model.compile(loss = 'binary_crossentropy', optimizer = tf.keras.optimizers.Adam(learning_rate = 1e-4), \n",
    "              metrics = [tf.keras.metrics.AUC(from_logits = True)])\n",
    "print(model.summary())"
   ]
  },
  {
   "cell_type": "code",
   "execution_count": 8,
   "metadata": {
    "execution": {
     "iopub.execute_input": "2022-05-24T10:24:17.421032Z",
     "iopub.status.busy": "2022-05-24T10:24:17.420830Z",
     "iopub.status.idle": "2022-05-24T10:24:17.425084Z",
     "shell.execute_reply": "2022-05-24T10:24:17.424236Z",
     "shell.execute_reply.started": "2022-05-24T10:24:17.421008Z"
    }
   },
   "outputs": [],
   "source": [
    "class_weight = {\n",
    "    0: 1,\n",
    "    1: y_train[y_train == 0].size / y_train[y_train == 1].size\n",
    "}"
   ]
  },
  {
   "cell_type": "code",
   "execution_count": 9,
   "metadata": {
    "execution": {
     "iopub.execute_input": "2022-05-24T10:24:20.958538Z",
     "iopub.status.busy": "2022-05-24T10:24:20.957636Z",
     "iopub.status.idle": "2022-05-24T10:26:18.971853Z",
     "shell.execute_reply": "2022-05-24T10:26:18.971111Z",
     "shell.execute_reply.started": "2022-05-24T10:24:20.958496Z"
    },
    "scrolled": false
   },
   "outputs": [
    {
     "name": "stderr",
     "output_type": "stream",
     "text": [
      "2022-05-24 10:24:21.032103: I tensorflow/compiler/mlir/mlir_graph_optimization_pass.cc:185] None of the MLIR Optimization Passes are enabled (registered 2)\n"
     ]
    },
    {
     "name": "stdout",
     "output_type": "stream",
     "text": [
      "Epoch 1/250\n"
     ]
    },
    {
     "name": "stderr",
     "output_type": "stream",
     "text": [
      "2022-05-24 10:24:21.335401: I tensorflow/stream_executor/cuda/cuda_dnn.cc:369] Loaded cuDNN version 8005\n"
     ]
    },
    {
     "name": "stdout",
     "output_type": "stream",
     "text": [
      "15/15 [==============================] - 1s 29ms/step - loss: 1.2224 - auc: 0.4916\n",
      "Epoch 2/250\n",
      "15/15 [==============================] - 0s 29ms/step - loss: 1.2252 - auc: 0.4734\n",
      "Epoch 3/250\n",
      "15/15 [==============================] - 0s 29ms/step - loss: 1.2104 - auc: 0.5588\n",
      "Epoch 4/250\n",
      "15/15 [==============================] - 1s 42ms/step - loss: 1.2092 - auc: 0.5686\n",
      "Epoch 5/250\n",
      "15/15 [==============================] - 1s 42ms/step - loss: 1.2093 - auc: 0.5686\n",
      "Epoch 6/250\n",
      "15/15 [==============================] - 1s 46ms/step - loss: 1.2224 - auc: 0.5196\n",
      "Epoch 7/250\n",
      "15/15 [==============================] - 0s 29ms/step - loss: 1.2181 - auc: 0.4594\n",
      "Epoch 8/250\n",
      "15/15 [==============================] - 0s 29ms/step - loss: 1.2290 - auc: 0.4272\n",
      "Epoch 9/250\n",
      "15/15 [==============================] - 0s 29ms/step - loss: 1.2012 - auc: 0.5980\n",
      "Epoch 10/250\n",
      "15/15 [==============================] - 0s 29ms/step - loss: 1.2091 - auc: 0.6176\n",
      "Epoch 11/250\n",
      "15/15 [==============================] - 0s 29ms/step - loss: 1.2058 - auc: 0.5588\n",
      "Epoch 12/250\n",
      "15/15 [==============================] - 0s 29ms/step - loss: 1.2146 - auc: 0.5126\n",
      "Epoch 13/250\n",
      "15/15 [==============================] - 0s 29ms/step - loss: 1.2005 - auc: 0.6275\n",
      "Epoch 14/250\n",
      "15/15 [==============================] - 0s 29ms/step - loss: 1.2021 - auc: 0.6078\n",
      "Epoch 15/250\n",
      "15/15 [==============================] - 0s 29ms/step - loss: 1.1853 - auc: 0.6275\n",
      "Epoch 16/250\n",
      "15/15 [==============================] - 0s 29ms/step - loss: 1.1925 - auc: 0.6373\n",
      "Epoch 17/250\n",
      "15/15 [==============================] - 0s 29ms/step - loss: 1.2241 - auc: 0.4300\n",
      "Epoch 18/250\n",
      "15/15 [==============================] - 0s 29ms/step - loss: 1.2078 - auc: 0.5812\n",
      "Epoch 19/250\n",
      "15/15 [==============================] - 0s 29ms/step - loss: 1.2130 - auc: 0.5056\n",
      "Epoch 20/250\n",
      "15/15 [==============================] - 0s 29ms/step - loss: 1.2000 - auc: 0.5238\n",
      "Epoch 21/250\n",
      "15/15 [==============================] - 0s 29ms/step - loss: 1.1757 - auc: 0.6863\n",
      "Epoch 22/250\n",
      "15/15 [==============================] - 0s 29ms/step - loss: 1.1486 - auc: 0.7255\n",
      "Epoch 23/250\n",
      "15/15 [==============================] - 0s 29ms/step - loss: 1.1617 - auc: 0.6597\n",
      "Epoch 24/250\n",
      "15/15 [==============================] - 0s 29ms/step - loss: 1.1455 - auc: 0.7647\n",
      "Epoch 25/250\n",
      "15/15 [==============================] - 0s 30ms/step - loss: 1.1664 - auc: 0.6569\n",
      "Epoch 26/250\n",
      "15/15 [==============================] - 0s 29ms/step - loss: 1.1765 - auc: 0.6471\n",
      "Epoch 27/250\n",
      "15/15 [==============================] - 0s 30ms/step - loss: 1.1244 - auc: 0.7269\n",
      "Epoch 28/250\n",
      "15/15 [==============================] - 0s 29ms/step - loss: 1.1111 - auc: 0.6667\n",
      "Epoch 29/250\n",
      "15/15 [==============================] - 1s 34ms/step - loss: 1.1516 - auc: 0.6317\n",
      "Epoch 30/250\n",
      "15/15 [==============================] - 1s 37ms/step - loss: 1.1175 - auc: 0.7087\n",
      "Epoch 31/250\n",
      "15/15 [==============================] - 0s 31ms/step - loss: 1.1543 - auc: 0.6148\n",
      "Epoch 32/250\n",
      "15/15 [==============================] - 0s 30ms/step - loss: 1.0822 - auc: 0.7801\n",
      "Epoch 33/250\n",
      "15/15 [==============================] - 0s 30ms/step - loss: 1.0499 - auc: 0.8529\n",
      "Epoch 34/250\n",
      "15/15 [==============================] - 0s 30ms/step - loss: 1.0932 - auc: 0.7521\n",
      "Epoch 35/250\n",
      "15/15 [==============================] - 0s 30ms/step - loss: 1.0742 - auc: 0.7983\n",
      "Epoch 36/250\n",
      "15/15 [==============================] - 0s 30ms/step - loss: 1.1642 - auc: 0.5742\n",
      "Epoch 37/250\n",
      "15/15 [==============================] - 0s 30ms/step - loss: 1.0693 - auc: 0.7031\n",
      "Epoch 38/250\n",
      "15/15 [==============================] - 0s 29ms/step - loss: 1.0783 - auc: 0.6779\n",
      "Epoch 39/250\n",
      "15/15 [==============================] - 0s 30ms/step - loss: 1.0612 - auc: 0.6975\n",
      "Epoch 40/250\n",
      "15/15 [==============================] - 0s 30ms/step - loss: 1.0947 - auc: 0.6849\n",
      "Epoch 41/250\n",
      "15/15 [==============================] - 0s 30ms/step - loss: 1.0893 - auc: 0.7241\n",
      "Epoch 42/250\n",
      "15/15 [==============================] - 0s 30ms/step - loss: 1.0528 - auc: 0.7409\n",
      "Epoch 43/250\n",
      "15/15 [==============================] - 0s 30ms/step - loss: 1.0800 - auc: 0.7269\n",
      "Epoch 44/250\n",
      "15/15 [==============================] - 0s 30ms/step - loss: 1.0857 - auc: 0.7297\n",
      "Epoch 45/250\n",
      "15/15 [==============================] - 0s 29ms/step - loss: 1.0122 - auc: 0.7997\n",
      "Epoch 46/250\n",
      "15/15 [==============================] - 0s 31ms/step - loss: 1.0671 - auc: 0.7605\n",
      "Epoch 47/250\n",
      "15/15 [==============================] - 0s 30ms/step - loss: 1.0916 - auc: 0.6779\n",
      "Epoch 48/250\n",
      "15/15 [==============================] - 0s 30ms/step - loss: 1.0903 - auc: 0.7199\n",
      "Epoch 49/250\n",
      "15/15 [==============================] - 0s 31ms/step - loss: 1.0677 - auc: 0.7451\n",
      "Epoch 50/250\n",
      "15/15 [==============================] - 0s 29ms/step - loss: 1.0796 - auc: 0.7423\n",
      "Epoch 51/250\n",
      "15/15 [==============================] - 0s 30ms/step - loss: 1.0523 - auc: 0.7451\n",
      "Epoch 52/250\n",
      "15/15 [==============================] - 0s 30ms/step - loss: 1.0508 - auc: 0.7717\n",
      "Epoch 53/250\n",
      "15/15 [==============================] - 1s 40ms/step - loss: 1.0881 - auc: 0.6779\n",
      "Epoch 54/250\n",
      "15/15 [==============================] - 0s 32ms/step - loss: 1.0746 - auc: 0.7353\n",
      "Epoch 55/250\n",
      "15/15 [==============================] - 0s 30ms/step - loss: 1.0292 - auc: 0.7465\n",
      "Epoch 56/250\n",
      "15/15 [==============================] - 0s 30ms/step - loss: 1.0242 - auc: 0.8011\n",
      "Epoch 57/250\n",
      "15/15 [==============================] - 0s 29ms/step - loss: 1.0163 - auc: 0.7843\n",
      "Epoch 58/250\n",
      "15/15 [==============================] - 0s 29ms/step - loss: 1.0129 - auc: 0.7633\n",
      "Epoch 59/250\n",
      "15/15 [==============================] - 0s 30ms/step - loss: 1.0377 - auc: 0.7353\n",
      "Epoch 60/250\n",
      "15/15 [==============================] - 0s 30ms/step - loss: 1.1371 - auc: 0.6989\n",
      "Epoch 61/250\n",
      "15/15 [==============================] - 0s 29ms/step - loss: 0.9966 - auc: 0.8291\n",
      "Epoch 62/250\n",
      "15/15 [==============================] - 0s 29ms/step - loss: 1.0470 - auc: 0.7311\n",
      "Epoch 63/250\n",
      "15/15 [==============================] - 0s 29ms/step - loss: 1.0048 - auc: 0.7269\n",
      "Epoch 64/250\n",
      "15/15 [==============================] - 0s 29ms/step - loss: 1.0214 - auc: 0.7983\n",
      "Epoch 65/250\n",
      "15/15 [==============================] - 0s 29ms/step - loss: 0.9486 - auc: 0.8375\n",
      "Epoch 66/250\n",
      "15/15 [==============================] - 0s 30ms/step - loss: 1.0320 - auc: 0.7843\n",
      "Epoch 67/250\n",
      "15/15 [==============================] - 0s 29ms/step - loss: 0.9628 - auc: 0.8431\n",
      "Epoch 68/250\n",
      "15/15 [==============================] - 0s 32ms/step - loss: 1.0873 - auc: 0.6569\n",
      "Epoch 69/250\n",
      "15/15 [==============================] - 0s 30ms/step - loss: 1.0360 - auc: 0.7521\n",
      "Epoch 70/250\n",
      "15/15 [==============================] - 0s 29ms/step - loss: 0.9764 - auc: 0.8627\n",
      "Epoch 71/250\n",
      "15/15 [==============================] - 0s 29ms/step - loss: 1.0124 - auc: 0.7395\n",
      "Epoch 72/250\n",
      "15/15 [==============================] - 0s 29ms/step - loss: 0.9736 - auc: 0.8627\n",
      "Epoch 73/250\n",
      "15/15 [==============================] - 0s 29ms/step - loss: 1.0268 - auc: 0.7577\n",
      "Epoch 74/250\n",
      "15/15 [==============================] - 1s 43ms/step - loss: 1.0008 - auc: 0.7521\n",
      "Epoch 75/250\n",
      "15/15 [==============================] - 1s 41ms/step - loss: 1.0148 - auc: 0.7535\n",
      "Epoch 76/250\n",
      "15/15 [==============================] - 1s 40ms/step - loss: 0.9816 - auc: 0.8011\n",
      "Epoch 77/250\n",
      "15/15 [==============================] - 0s 32ms/step - loss: 0.9731 - auc: 0.8151\n",
      "Epoch 78/250\n",
      "15/15 [==============================] - 0s 29ms/step - loss: 0.9372 - auc: 0.9020\n",
      "Epoch 79/250\n",
      "15/15 [==============================] - 0s 29ms/step - loss: 1.0150 - auc: 0.7829\n",
      "Epoch 80/250\n",
      "15/15 [==============================] - 0s 29ms/step - loss: 0.9945 - auc: 0.8053\n",
      "Epoch 81/250\n",
      "15/15 [==============================] - 0s 29ms/step - loss: 0.9354 - auc: 0.8193\n",
      "Epoch 82/250\n",
      "15/15 [==============================] - 0s 29ms/step - loss: 0.9754 - auc: 0.7549\n",
      "Epoch 83/250\n",
      "15/15 [==============================] - 0s 29ms/step - loss: 1.0147 - auc: 0.7269\n",
      "Epoch 84/250\n",
      "15/15 [==============================] - 0s 29ms/step - loss: 0.9664 - auc: 0.7689\n",
      "Epoch 85/250\n",
      "15/15 [==============================] - 0s 29ms/step - loss: 0.9422 - auc: 0.7493\n",
      "Epoch 86/250\n",
      "15/15 [==============================] - 0s 29ms/step - loss: 1.0023 - auc: 0.8151\n",
      "Epoch 87/250\n",
      "15/15 [==============================] - 0s 29ms/step - loss: 1.0159 - auc: 0.7745\n",
      "Epoch 88/250\n",
      "15/15 [==============================] - 0s 29ms/step - loss: 1.0146 - auc: 0.7325\n",
      "Epoch 89/250\n",
      "15/15 [==============================] - 0s 30ms/step - loss: 0.9480 - auc: 0.7675\n",
      "Epoch 90/250\n",
      "15/15 [==============================] - 0s 29ms/step - loss: 0.9335 - auc: 0.8165\n",
      "Epoch 91/250\n",
      "15/15 [==============================] - 0s 29ms/step - loss: 0.9997 - auc: 0.7675\n",
      "Epoch 92/250\n",
      "15/15 [==============================] - 0s 29ms/step - loss: 0.9094 - auc: 0.8725\n",
      "Epoch 93/250\n",
      "15/15 [==============================] - 0s 29ms/step - loss: 0.9773 - auc: 0.7885\n",
      "Epoch 94/250\n",
      "15/15 [==============================] - 0s 29ms/step - loss: 0.9316 - auc: 0.8725\n",
      "Epoch 95/250\n",
      "15/15 [==============================] - 0s 29ms/step - loss: 0.9539 - auc: 0.8193\n",
      "Epoch 96/250\n",
      "15/15 [==============================] - 0s 29ms/step - loss: 0.8799 - auc: 0.9314\n",
      "Epoch 97/250\n",
      "15/15 [==============================] - 0s 30ms/step - loss: 0.9224 - auc: 0.8179\n",
      "Epoch 98/250\n",
      "15/15 [==============================] - 0s 30ms/step - loss: 0.9107 - auc: 0.8627\n",
      "Epoch 99/250\n",
      "15/15 [==============================] - 0s 29ms/step - loss: 0.9256 - auc: 0.8333\n",
      "Epoch 100/250\n",
      "15/15 [==============================] - 1s 41ms/step - loss: 0.9463 - auc: 0.8165\n",
      "Epoch 101/250\n",
      "15/15 [==============================] - 0s 32ms/step - loss: 0.9035 - auc: 0.8333\n",
      "Epoch 102/250\n",
      "15/15 [==============================] - 0s 29ms/step - loss: 0.9467 - auc: 0.8431\n",
      "Epoch 103/250\n",
      "15/15 [==============================] - 0s 29ms/step - loss: 0.9931 - auc: 0.7521\n",
      "Epoch 104/250\n",
      "15/15 [==============================] - 0s 29ms/step - loss: 0.9379 - auc: 0.8179\n",
      "Epoch 105/250\n",
      "15/15 [==============================] - 0s 29ms/step - loss: 0.9799 - auc: 0.8039\n",
      "Epoch 106/250\n",
      "15/15 [==============================] - 0s 29ms/step - loss: 0.9886 - auc: 0.7633\n",
      "Epoch 107/250\n",
      "15/15 [==============================] - 0s 30ms/step - loss: 0.9249 - auc: 0.8529\n",
      "Epoch 108/250\n",
      "15/15 [==============================] - 0s 29ms/step - loss: 0.9613 - auc: 0.7787\n",
      "Epoch 109/250\n",
      "15/15 [==============================] - 0s 30ms/step - loss: 0.8849 - auc: 0.8431\n",
      "Epoch 110/250\n",
      "15/15 [==============================] - 0s 29ms/step - loss: 0.8886 - auc: 0.8922\n",
      "Epoch 111/250\n",
      "15/15 [==============================] - 0s 30ms/step - loss: 0.8996 - auc: 0.8291\n",
      "Epoch 112/250\n",
      "15/15 [==============================] - 0s 29ms/step - loss: 0.8805 - auc: 0.8529\n",
      "Epoch 113/250\n",
      "15/15 [==============================] - 0s 29ms/step - loss: 0.9482 - auc: 0.7843\n",
      "Epoch 114/250\n",
      "15/15 [==============================] - 0s 29ms/step - loss: 0.9510 - auc: 0.7983\n",
      "Epoch 115/250\n",
      "15/15 [==============================] - 0s 29ms/step - loss: 0.9245 - auc: 0.7955\n",
      "Epoch 116/250\n",
      "15/15 [==============================] - 0s 29ms/step - loss: 0.8864 - auc: 0.8389\n",
      "Epoch 117/250\n",
      "15/15 [==============================] - 0s 29ms/step - loss: 0.8650 - auc: 0.8725\n",
      "Epoch 118/250\n",
      "15/15 [==============================] - 0s 29ms/step - loss: 0.9346 - auc: 0.7717\n",
      "Epoch 119/250\n",
      "15/15 [==============================] - 0s 29ms/step - loss: 0.8666 - auc: 0.8922\n",
      "Epoch 120/250\n",
      "15/15 [==============================] - 0s 30ms/step - loss: 0.9254 - auc: 0.7885\n",
      "Epoch 121/250\n",
      "15/15 [==============================] - 0s 29ms/step - loss: 1.0102 - auc: 0.8137\n",
      "Epoch 122/250\n",
      "15/15 [==============================] - 0s 30ms/step - loss: 0.8891 - auc: 0.8319\n",
      "Epoch 123/250\n",
      "15/15 [==============================] - 0s 29ms/step - loss: 0.9228 - auc: 0.8627\n",
      "Epoch 124/250\n",
      "15/15 [==============================] - 1s 39ms/step - loss: 0.9440 - auc: 0.7829\n",
      "Epoch 125/250\n",
      "15/15 [==============================] - 0s 32ms/step - loss: 0.9300 - auc: 0.8333\n",
      "Epoch 126/250\n",
      "15/15 [==============================] - 0s 29ms/step - loss: 0.9505 - auc: 0.7647\n",
      "Epoch 127/250\n",
      "15/15 [==============================] - 0s 29ms/step - loss: 0.9471 - auc: 0.8431\n",
      "Epoch 128/250\n",
      "15/15 [==============================] - 0s 30ms/step - loss: 0.9607 - auc: 0.7367\n",
      "Epoch 129/250\n",
      "15/15 [==============================] - 0s 29ms/step - loss: 0.8859 - auc: 0.8487\n",
      "Epoch 130/250\n",
      "15/15 [==============================] - 0s 29ms/step - loss: 0.8670 - auc: 0.8347\n",
      "Epoch 131/250\n",
      "15/15 [==============================] - 0s 29ms/step - loss: 0.8741 - auc: 0.8403\n",
      "Epoch 132/250\n",
      "15/15 [==============================] - 0s 31ms/step - loss: 0.9099 - auc: 0.8263\n",
      "Epoch 133/250\n",
      "15/15 [==============================] - 0s 29ms/step - loss: 0.8909 - auc: 0.8151\n",
      "Epoch 134/250\n",
      "15/15 [==============================] - 0s 29ms/step - loss: 0.9363 - auc: 0.8053\n",
      "Epoch 135/250\n",
      "15/15 [==============================] - 0s 29ms/step - loss: 0.8304 - auc: 0.8754\n",
      "Epoch 136/250\n",
      "15/15 [==============================] - 0s 29ms/step - loss: 0.8748 - auc: 0.8824\n",
      "Epoch 137/250\n",
      "15/15 [==============================] - 0s 29ms/step - loss: 0.9441 - auc: 0.7745\n",
      "Epoch 138/250\n",
      "15/15 [==============================] - 0s 30ms/step - loss: 0.9251 - auc: 0.8137\n",
      "Epoch 139/250\n",
      "15/15 [==============================] - 0s 29ms/step - loss: 0.8793 - auc: 0.8754\n",
      "Epoch 140/250\n",
      "15/15 [==============================] - 0s 29ms/step - loss: 0.8636 - auc: 0.8908\n",
      "Epoch 141/250\n",
      "15/15 [==============================] - 0s 29ms/step - loss: 0.8966 - auc: 0.8627\n",
      "Epoch 142/250\n",
      "15/15 [==============================] - 0s 29ms/step - loss: 0.8790 - auc: 0.8739\n",
      "Epoch 143/250\n",
      "15/15 [==============================] - 1s 39ms/step - loss: 0.8713 - auc: 0.8431\n",
      "Epoch 144/250\n",
      "15/15 [==============================] - 1s 41ms/step - loss: 0.8984 - auc: 0.8725\n",
      "Epoch 145/250\n",
      "15/15 [==============================] - 1s 33ms/step - loss: 0.8794 - auc: 0.8725\n",
      "Epoch 146/250\n",
      "15/15 [==============================] - 0s 29ms/step - loss: 0.8503 - auc: 0.8922\n",
      "Epoch 147/250\n",
      "15/15 [==============================] - 1s 38ms/step - loss: 0.8949 - auc: 0.8725\n",
      "Epoch 148/250\n",
      "15/15 [==============================] - 1s 34ms/step - loss: 0.8263 - auc: 0.8936\n",
      "Epoch 149/250\n",
      "15/15 [==============================] - 0s 30ms/step - loss: 0.8449 - auc: 0.8725\n",
      "Epoch 150/250\n",
      "15/15 [==============================] - 0s 29ms/step - loss: 0.9312 - auc: 0.7717\n",
      "Epoch 151/250\n",
      "15/15 [==============================] - 0s 29ms/step - loss: 0.8955 - auc: 0.8459\n",
      "Epoch 152/250\n",
      "15/15 [==============================] - 0s 29ms/step - loss: 0.8371 - auc: 0.8852\n",
      "Epoch 153/250\n",
      "15/15 [==============================] - 0s 30ms/step - loss: 0.8305 - auc: 0.8852\n",
      "Epoch 154/250\n",
      "15/15 [==============================] - 0s 29ms/step - loss: 0.8892 - auc: 0.8235\n",
      "Epoch 155/250\n",
      "15/15 [==============================] - 0s 29ms/step - loss: 0.8417 - auc: 0.8894\n",
      "Epoch 156/250\n",
      "15/15 [==============================] - 0s 29ms/step - loss: 0.8515 - auc: 0.8824\n",
      "Epoch 157/250\n",
      "15/15 [==============================] - 0s 30ms/step - loss: 0.8198 - auc: 0.9118\n",
      "Epoch 158/250\n",
      "15/15 [==============================] - 0s 31ms/step - loss: 0.8233 - auc: 0.8725\n",
      "Epoch 159/250\n",
      "15/15 [==============================] - 0s 30ms/step - loss: 0.8319 - auc: 0.8922\n",
      "Epoch 160/250\n",
      "15/15 [==============================] - 0s 29ms/step - loss: 0.8331 - auc: 0.8599\n",
      "Epoch 161/250\n",
      "15/15 [==============================] - 0s 29ms/step - loss: 0.8139 - auc: 0.8964\n",
      "Epoch 162/250\n",
      "15/15 [==============================] - 0s 29ms/step - loss: 0.8744 - auc: 0.8081\n",
      "Epoch 163/250\n",
      "15/15 [==============================] - 0s 31ms/step - loss: 0.8593 - auc: 0.8529\n",
      "Epoch 164/250\n",
      "15/15 [==============================] - 0s 29ms/step - loss: 0.8915 - auc: 0.7829\n",
      "Epoch 165/250\n",
      "15/15 [==============================] - 0s 29ms/step - loss: 0.8333 - auc: 0.8627\n",
      "Epoch 166/250\n",
      "15/15 [==============================] - 0s 29ms/step - loss: 0.8776 - auc: 0.8725\n",
      "Epoch 167/250\n",
      "15/15 [==============================] - 0s 29ms/step - loss: 0.7709 - auc: 0.9076\n",
      "Epoch 168/250\n",
      "15/15 [==============================] - 0s 29ms/step - loss: 0.8720 - auc: 0.8669\n",
      "Epoch 169/250\n",
      "15/15 [==============================] - 0s 30ms/step - loss: 0.8200 - auc: 0.9020\n",
      "Epoch 170/250\n",
      "15/15 [==============================] - 0s 30ms/step - loss: 0.8787 - auc: 0.8627\n",
      "Epoch 171/250\n",
      "15/15 [==============================] - 1s 41ms/step - loss: 0.8539 - auc: 0.8529\n",
      "Epoch 172/250\n",
      "15/15 [==============================] - 1s 33ms/step - loss: 0.8461 - auc: 0.8852\n",
      "Epoch 173/250\n",
      "15/15 [==============================] - 0s 29ms/step - loss: 0.8513 - auc: 0.8768\n",
      "Epoch 174/250\n",
      "15/15 [==============================] - 0s 29ms/step - loss: 0.7949 - auc: 0.9020\n",
      "Epoch 175/250\n",
      "15/15 [==============================] - 0s 30ms/step - loss: 0.8064 - auc: 0.8922\n",
      "Epoch 176/250\n",
      "15/15 [==============================] - 0s 30ms/step - loss: 0.8361 - auc: 0.8599\n",
      "Epoch 177/250\n",
      "15/15 [==============================] - 0s 30ms/step - loss: 0.8506 - auc: 0.8515\n",
      "Epoch 178/250\n",
      "15/15 [==============================] - 0s 29ms/step - loss: 0.8600 - auc: 0.8305\n",
      "Epoch 179/250\n",
      "15/15 [==============================] - 0s 29ms/step - loss: 0.8803 - auc: 0.8515\n",
      "Epoch 180/250\n",
      "15/15 [==============================] - 0s 29ms/step - loss: 0.8960 - auc: 0.8123\n",
      "Epoch 181/250\n",
      "15/15 [==============================] - 0s 29ms/step - loss: 0.8181 - auc: 0.9020\n",
      "Epoch 182/250\n",
      "15/15 [==============================] - 0s 29ms/step - loss: 0.8154 - auc: 0.8866\n",
      "Epoch 183/250\n",
      "15/15 [==============================] - 0s 29ms/step - loss: 0.9427 - auc: 0.8193\n",
      "Epoch 184/250\n",
      "15/15 [==============================] - 0s 29ms/step - loss: 0.8193 - auc: 0.8894\n",
      "Epoch 185/250\n",
      "15/15 [==============================] - 0s 30ms/step - loss: 0.8349 - auc: 0.8824\n",
      "Epoch 186/250\n",
      "15/15 [==============================] - 0s 29ms/step - loss: 0.8203 - auc: 0.8922\n",
      "Epoch 187/250\n",
      "15/15 [==============================] - 0s 29ms/step - loss: 0.7986 - auc: 0.8768\n",
      "Epoch 188/250\n",
      "15/15 [==============================] - 0s 29ms/step - loss: 0.7863 - auc: 0.9118\n",
      "Epoch 189/250\n",
      "15/15 [==============================] - 0s 29ms/step - loss: 0.8130 - auc: 0.8880\n",
      "Epoch 190/250\n",
      "15/15 [==============================] - 0s 29ms/step - loss: 0.8341 - auc: 0.8627\n",
      "Epoch 191/250\n",
      "15/15 [==============================] - 0s 30ms/step - loss: 0.7764 - auc: 0.9314\n",
      "Epoch 192/250\n",
      "15/15 [==============================] - 0s 29ms/step - loss: 0.8034 - auc: 0.9216\n",
      "Epoch 193/250\n",
      "15/15 [==============================] - 0s 30ms/step - loss: 0.7712 - auc: 0.8992\n",
      "Epoch 194/250\n",
      "15/15 [==============================] - 0s 30ms/step - loss: 0.7934 - auc: 0.8922\n",
      "Epoch 195/250\n",
      "15/15 [==============================] - 1s 42ms/step - loss: 0.7432 - auc: 0.9314\n",
      "Epoch 196/250\n",
      "15/15 [==============================] - 0s 30ms/step - loss: 0.9740 - auc: 0.8305\n",
      "Epoch 197/250\n",
      "15/15 [==============================] - 0s 32ms/step - loss: 0.8541 - auc: 0.8431\n",
      "Epoch 198/250\n",
      "15/15 [==============================] - 0s 30ms/step - loss: 0.8710 - auc: 0.8333\n",
      "Epoch 199/250\n",
      "15/15 [==============================] - 0s 29ms/step - loss: 0.8110 - auc: 0.9020\n",
      "Epoch 200/250\n",
      "15/15 [==============================] - 0s 30ms/step - loss: 0.7827 - auc: 0.9216\n",
      "Epoch 201/250\n",
      "15/15 [==============================] - 0s 29ms/step - loss: 0.8486 - auc: 0.8319\n",
      "Epoch 202/250\n",
      "15/15 [==============================] - 0s 29ms/step - loss: 0.8391 - auc: 0.8627\n",
      "Epoch 203/250\n",
      "15/15 [==============================] - 0s 29ms/step - loss: 0.7819 - auc: 0.9020\n",
      "Epoch 204/250\n",
      "15/15 [==============================] - 0s 29ms/step - loss: 0.7736 - auc: 0.9216\n",
      "Epoch 205/250\n",
      "15/15 [==============================] - 0s 30ms/step - loss: 0.8723 - auc: 0.8291\n",
      "Epoch 206/250\n",
      "15/15 [==============================] - 0s 29ms/step - loss: 0.8279 - auc: 0.8431\n",
      "Epoch 207/250\n",
      "15/15 [==============================] - 0s 30ms/step - loss: 0.8252 - auc: 0.8725\n",
      "Epoch 208/250\n",
      "15/15 [==============================] - 0s 29ms/step - loss: 0.8193 - auc: 0.8796\n",
      "Epoch 209/250\n",
      "15/15 [==============================] - 0s 30ms/step - loss: 0.8135 - auc: 0.8529\n",
      "Epoch 210/250\n",
      "15/15 [==============================] - 0s 31ms/step - loss: 0.8713 - auc: 0.8333\n",
      "Epoch 211/250\n",
      "15/15 [==============================] - 0s 29ms/step - loss: 0.8030 - auc: 0.8922\n",
      "Epoch 212/250\n",
      "15/15 [==============================] - 1s 35ms/step - loss: 0.8281 - auc: 0.8543\n",
      "Epoch 213/250\n",
      "15/15 [==============================] - 1s 48ms/step - loss: 0.8190 - auc: 0.9020\n",
      "Epoch 214/250\n",
      "15/15 [==============================] - 1s 39ms/step - loss: 0.7977 - auc: 0.8824\n",
      "Epoch 215/250\n",
      "15/15 [==============================] - 0s 31ms/step - loss: 0.7997 - auc: 0.8655\n",
      "Epoch 216/250\n",
      "15/15 [==============================] - 0s 30ms/step - loss: 0.8246 - auc: 0.8431\n",
      "Epoch 217/250\n",
      "15/15 [==============================] - 1s 34ms/step - loss: 0.8302 - auc: 0.8754\n",
      "Epoch 218/250\n",
      "15/15 [==============================] - 1s 39ms/step - loss: 0.7740 - auc: 0.8824\n",
      "Epoch 219/250\n",
      "15/15 [==============================] - 1s 34ms/step - loss: 0.7806 - auc: 0.8725\n",
      "Epoch 220/250\n",
      "15/15 [==============================] - 1s 34ms/step - loss: 0.7300 - auc: 0.9412\n",
      "Epoch 221/250\n",
      "15/15 [==============================] - 1s 33ms/step - loss: 0.7714 - auc: 0.9412\n",
      "Epoch 222/250\n",
      "15/15 [==============================] - 1s 34ms/step - loss: 0.7976 - auc: 0.8992\n",
      "Epoch 223/250\n",
      "15/15 [==============================] - 0s 32ms/step - loss: 0.7838 - auc: 0.9244\n",
      "Epoch 224/250\n",
      "15/15 [==============================] - 0s 29ms/step - loss: 0.7385 - auc: 0.9118\n",
      "Epoch 225/250\n",
      "15/15 [==============================] - 0s 30ms/step - loss: 0.7952 - auc: 0.8936\n",
      "Epoch 226/250\n",
      "15/15 [==============================] - 0s 29ms/step - loss: 0.7953 - auc: 0.8655\n",
      "Epoch 227/250\n",
      "15/15 [==============================] - 0s 31ms/step - loss: 0.7750 - auc: 0.8922\n",
      "Epoch 228/250\n",
      "15/15 [==============================] - 0s 30ms/step - loss: 0.8040 - auc: 0.8725\n",
      "Epoch 229/250\n",
      "15/15 [==============================] - 0s 29ms/step - loss: 0.8232 - auc: 0.8571\n",
      "Epoch 230/250\n",
      "15/15 [==============================] - 0s 29ms/step - loss: 0.7691 - auc: 0.8922\n",
      "Epoch 231/250\n",
      "15/15 [==============================] - 0s 30ms/step - loss: 0.7741 - auc: 0.8922\n",
      "Epoch 232/250\n",
      "15/15 [==============================] - 0s 29ms/step - loss: 0.8030 - auc: 0.8655\n",
      "Epoch 233/250\n",
      "15/15 [==============================] - 0s 29ms/step - loss: 0.7705 - auc: 0.9202\n",
      "Epoch 234/250\n",
      "15/15 [==============================] - 0s 29ms/step - loss: 0.8496 - auc: 0.8529\n",
      "Epoch 235/250\n",
      "15/15 [==============================] - 0s 29ms/step - loss: 0.8036 - auc: 0.8922\n",
      "Epoch 236/250\n",
      "15/15 [==============================] - 0s 30ms/step - loss: 0.8067 - auc: 0.8207\n",
      "Epoch 237/250\n",
      "15/15 [==============================] - 0s 29ms/step - loss: 0.8796 - auc: 0.8557\n",
      "Epoch 238/250\n",
      "15/15 [==============================] - 0s 31ms/step - loss: 0.7793 - auc: 0.9020\n",
      "Epoch 239/250\n",
      "15/15 [==============================] - 0s 30ms/step - loss: 0.7662 - auc: 0.9314\n",
      "Epoch 240/250\n",
      "15/15 [==============================] - 0s 30ms/step - loss: 0.7955 - auc: 0.8922\n",
      "Epoch 241/250\n",
      "15/15 [==============================] - 1s 44ms/step - loss: 0.7426 - auc: 0.9216\n",
      "Epoch 242/250\n",
      "15/15 [==============================] - 0s 30ms/step - loss: 0.8047 - auc: 0.8655\n",
      "Epoch 243/250\n",
      "15/15 [==============================] - 0s 29ms/step - loss: 0.8173 - auc: 0.8627\n",
      "Epoch 244/250\n",
      "15/15 [==============================] - 0s 29ms/step - loss: 0.7935 - auc: 0.8922\n",
      "Epoch 245/250\n",
      "15/15 [==============================] - 0s 29ms/step - loss: 0.7592 - auc: 0.9076\n",
      "Epoch 246/250\n",
      "15/15 [==============================] - 0s 29ms/step - loss: 0.7936 - auc: 0.9076\n",
      "Epoch 247/250\n",
      "15/15 [==============================] - 0s 29ms/step - loss: 0.8324 - auc: 0.8627\n",
      "Epoch 248/250\n",
      "15/15 [==============================] - 0s 30ms/step - loss: 0.7685 - auc: 0.9314\n",
      "Epoch 249/250\n",
      "15/15 [==============================] - 0s 30ms/step - loss: 0.7622 - auc: 0.9104\n",
      "Epoch 250/250\n",
      "15/15 [==============================] - 0s 30ms/step - loss: 0.7511 - auc: 0.9216\n"
     ]
    }
   ],
   "source": [
    "history = model.fit(X_train, y_train, epochs = 250, batch_size = 4, class_weight = class_weight, \n",
    "                    callbacks = [tf.keras.callbacks.EarlyStopping(monitor = 'loss', patience = 50, \n",
    "                                                                  restore_best_weights = True)])"
   ]
  },
  {
   "cell_type": "markdown",
   "metadata": {},
   "source": [
    "## Model evaluation"
   ]
  },
  {
   "cell_type": "code",
   "execution_count": 10,
   "metadata": {
    "execution": {
     "iopub.execute_input": "2022-05-24T10:26:18.974148Z",
     "iopub.status.busy": "2022-05-24T10:26:18.973655Z",
     "iopub.status.idle": "2022-05-24T10:26:19.151460Z",
     "shell.execute_reply": "2022-05-24T10:26:19.150762Z",
     "shell.execute_reply.started": "2022-05-24T10:26:18.974099Z"
    }
   },
   "outputs": [
    {
     "data": {
      "image/png": "[encoded data removed]",
      "text/plain": [
       "<Figure size 432x288 with 1 Axes>"
      ]
     },
     "metadata": {
      "needs_background": "light"
     },
     "output_type": "display_data"
    }
   ],
   "source": [
    "plt.plot(history.history['auc'])\n",
    "plt.ylabel('ROC AUC Score')\n",
    "plt.xlabel('Epoch')\n",
    "plt.show()"
   ]
  },
  {
   "cell_type": "code",
   "execution_count": 11,
   "metadata": {
    "execution": {
     "iopub.execute_input": "2022-05-24T10:26:52.774395Z",
     "iopub.status.busy": "2022-05-24T10:26:52.773519Z",
     "iopub.status.idle": "2022-05-24T10:26:52.940198Z",
     "shell.execute_reply": "2022-05-24T10:26:52.939519Z",
     "shell.execute_reply.started": "2022-05-24T10:26:52.774338Z"
    }
   },
   "outputs": [
    {
     "data": {
      "image/png": "[encoded data removed]",
      "text/plain": [
       "<Figure size 432x288 with 1 Axes>"
      ]
     },
     "metadata": {
      "needs_background": "light"
     },
     "output_type": "display_data"
    }
   ],
   "source": [
    "plt.plot(history.history['loss'])\n",
    "plt.ylabel('Loss')\n",
    "plt.xlabel('Epoch')\n",
    "plt.show()"
   ]
  },
  {
   "cell_type": "code",
   "execution_count": 12,
   "metadata": {
    "execution": {
     "iopub.execute_input": "2022-05-24T10:26:58.082012Z",
     "iopub.status.busy": "2022-05-24T10:26:58.081427Z",
     "iopub.status.idle": "2022-05-24T10:26:58.174120Z",
     "shell.execute_reply": "2022-05-24T10:26:58.172761Z",
     "shell.execute_reply.started": "2022-05-24T10:26:58.081972Z"
    }
   },
   "outputs": [
    {
     "data": {
      "text/plain": [
       "0.9705882668495178"
      ]
     },
     "execution_count": 12,
     "metadata": {},
     "output_type": "execute_result"
    }
   ],
   "source": [
    "scores = model.evaluate(X_train, y_train, verbose = 0)\n",
    "scores[1]"
   ]
  },
  {
   "cell_type": "code",
   "execution_count": 13,
   "metadata": {
    "execution": {
     "iopub.execute_input": "2022-05-24T10:27:00.521454Z",
     "iopub.status.busy": "2022-05-24T10:27:00.521196Z",
     "iopub.status.idle": "2022-05-24T10:27:00.528165Z",
     "shell.execute_reply": "2022-05-24T10:27:00.527387Z",
     "shell.execute_reply.started": "2022-05-24T10:27:00.521425Z"
    }
   },
   "outputs": [],
   "source": [
    "X_test = X_test.values.reshape((-1, 14, 10))\n",
    "y_test = y_test.values.reshape((-1, 1))"
   ]
  },
  {
   "cell_type": "code",
   "execution_count": 14,
   "metadata": {
    "execution": {
     "iopub.execute_input": "2022-05-24T10:27:00.715688Z",
     "iopub.status.busy": "2022-05-24T10:27:00.715368Z",
     "iopub.status.idle": "2022-05-24T10:27:00.790369Z",
     "shell.execute_reply": "2022-05-24T10:27:00.789613Z",
     "shell.execute_reply.started": "2022-05-24T10:27:00.715659Z"
    }
   },
   "outputs": [
    {
     "data": {
      "text/plain": [
       "0.9642857313156128"
      ]
     },
     "execution_count": 14,
     "metadata": {},
     "output_type": "execute_result"
    }
   ],
   "source": [
    "scores = model.evaluate(X_test, y_test, verbose = 0)\n",
    "scores[1]"
   ]
  },
  {
   "cell_type": "code",
   "execution_count": 15,
   "metadata": {
    "execution": {
     "iopub.execute_input": "2022-05-24T10:27:04.634828Z",
     "iopub.status.busy": "2022-05-24T10:27:04.634415Z",
     "iopub.status.idle": "2022-05-24T10:27:04.695454Z",
     "shell.execute_reply": "2022-05-24T10:27:04.694753Z",
     "shell.execute_reply.started": "2022-05-24T10:27:04.634773Z"
    }
   },
   "outputs": [],
   "source": [
    "y_pred = model.predict(X_test)\n",
    "temp = y_pred.reshape(2, 8)\n",
    "y_pred = (temp == temp.max(axis = 1).reshape(2, 1)).astype(int).reshape(-1, 1)"
   ]
  },
  {
   "cell_type": "code",
   "execution_count": 16,
   "metadata": {
    "execution": {
     "iopub.execute_input": "2022-05-24T10:27:04.846758Z",
     "iopub.status.busy": "2022-05-24T10:27:04.846226Z",
     "iopub.status.idle": "2022-05-24T10:27:04.859612Z",
     "shell.execute_reply": "2022-05-24T10:27:04.858654Z",
     "shell.execute_reply.started": "2022-05-24T10:27:04.846696Z"
    }
   },
   "outputs": [
    {
     "name": "stdout",
     "output_type": "stream",
     "text": [
      "              precision    recall  f1-score   support\n",
      "\n",
      "         0.0       1.00      0.93      0.96        14\n",
      "         1.0       0.67      1.00      0.80         2\n",
      "\n",
      "    accuracy                           0.94        16\n",
      "   macro avg       0.83      0.96      0.88        16\n",
      "weighted avg       0.96      0.94      0.94        16\n",
      "\n"
     ]
    }
   ],
   "source": [
    "print(metrics.classification_report(y_test, y_pred))"
   ]
  },
  {
   "cell_type": "code",
   "execution_count": 17,
   "metadata": {
    "execution": {
     "iopub.execute_input": "2022-05-24T10:27:05.669204Z",
     "iopub.status.busy": "2022-05-24T10:27:05.668389Z",
     "iopub.status.idle": "2022-05-24T10:27:05.956285Z",
     "shell.execute_reply": "2022-05-24T10:27:05.955520Z",
     "shell.execute_reply.started": "2022-05-24T10:27:05.669149Z"
    }
   },
   "outputs": [
    {
     "data": {
      "image/png": "[encoded data removed]",
      "text/plain": [
       "<Figure size 432x288 with 2 Axes>"
      ]
     },
     "metadata": {
      "needs_background": "light"
     },
     "output_type": "display_data"
    }
   ],
   "source": [
    "metrics.ConfusionMatrixDisplay.from_predictions(y_test, y_pred, cmap = 'Blues', normalize = 'true')\n",
    "plt.show()"
   ]
  },
  {
   "cell_type": "markdown",
   "metadata": {},
   "source": [
    "## Model testing"
   ]
  },
  {
   "cell_type": "code",
   "execution_count": 18,
   "metadata": {
    "execution": {
     "iopub.execute_input": "2022-05-24T10:27:30.004131Z",
     "iopub.status.busy": "2022-05-24T10:27:30.003579Z",
     "iopub.status.idle": "2022-05-24T10:27:30.022675Z",
     "shell.execute_reply": "2022-05-24T10:27:30.022010Z",
     "shell.execute_reply.started": "2022-05-24T10:27:30.004089Z"
    }
   },
   "outputs": [],
   "source": [
    "y = y.groupby(y.index // 14).apply(lambda x: x.mean()).reset_index(drop = True)\n",
    "\n",
    "X = X.values.reshape((-1, 14, 10))\n",
    "y = y.values.reshape((-1, 1))"
   ]
  },
  {
   "cell_type": "code",
   "execution_count": 19,
   "metadata": {
    "execution": {
     "iopub.execute_input": "2022-05-24T10:27:30.308938Z",
     "iopub.status.busy": "2022-05-24T10:27:30.308688Z",
     "iopub.status.idle": "2022-05-24T10:27:30.313364Z",
     "shell.execute_reply": "2022-05-24T10:27:30.312421Z",
     "shell.execute_reply.started": "2022-05-24T10:27:30.308910Z"
    }
   },
   "outputs": [],
   "source": [
    "class_weight = {\n",
    "    0: 1,\n",
    "    1: y[y == 0].size / y[y == 1].size\n",
    "}"
   ]
  },
  {
   "cell_type": "code",
   "execution_count": 20,
   "metadata": {
    "execution": {
     "iopub.execute_input": "2022-05-24T10:36:34.872866Z",
     "iopub.status.busy": "2022-05-24T10:36:34.872303Z",
     "iopub.status.idle": "2022-05-24T10:38:50.148666Z",
     "shell.execute_reply": "2022-05-24T10:38:50.147899Z",
     "shell.execute_reply.started": "2022-05-24T10:36:34.872822Z"
    }
   },
   "outputs": [],
   "source": [
    "history = model.fit(X, y, epochs = 250, batch_size = 4, class_weight = class_weight, verbose = 0)"
   ]
  },
  {
   "cell_type": "code",
   "execution_count": 21,
   "metadata": {
    "execution": {
     "iopub.execute_input": "2022-05-24T10:38:52.480190Z",
     "iopub.status.busy": "2022-05-24T10:38:52.479599Z",
     "iopub.status.idle": "2022-05-24T10:38:52.589929Z",
     "shell.execute_reply": "2022-05-24T10:38:52.589207Z",
     "shell.execute_reply.started": "2022-05-24T10:38:52.480148Z"
    }
   },
   "outputs": [
    {
     "data": {
      "text/plain": [
       "0.9769230484962463"
      ]
     },
     "execution_count": 21,
     "metadata": {},
     "output_type": "execute_result"
    }
   ],
   "source": [
    "scores = model.evaluate(X, y, verbose = 0)\n",
    "scores[1]"
   ]
  },
  {
   "cell_type": "code",
   "execution_count": 22,
   "metadata": {
    "execution": {
     "iopub.execute_input": "2022-05-24T10:38:54.341755Z",
     "iopub.status.busy": "2022-05-24T10:38:54.341391Z",
     "iopub.status.idle": "2022-05-24T10:38:54.350595Z",
     "shell.execute_reply": "2022-05-24T10:38:54.349781Z",
     "shell.execute_reply.started": "2022-05-24T10:38:54.341618Z"
    }
   },
   "outputs": [],
   "source": [
    "X_new = data.iloc[-140:, 2:-3]\n",
    "X_new = X_new.values.reshape((-1, 14, 10))"
   ]
  },
  {
   "cell_type": "code",
   "execution_count": 23,
   "metadata": {
    "execution": {
     "iopub.execute_input": "2022-05-24T10:38:54.930880Z",
     "iopub.status.busy": "2022-05-24T10:38:54.929390Z",
     "iopub.status.idle": "2022-05-24T10:38:54.987191Z",
     "shell.execute_reply": "2022-05-24T10:38:54.986495Z",
     "shell.execute_reply.started": "2022-05-24T10:38:54.930834Z"
    }
   },
   "outputs": [],
   "source": [
    "predictions = model.predict(X_new)"
   ]
  },
  {
   "cell_type": "code",
   "execution_count": 24,
   "metadata": {
    "execution": {
     "iopub.execute_input": "2022-05-24T10:38:57.529307Z",
     "iopub.status.busy": "2022-05-24T10:38:57.528466Z",
     "iopub.status.idle": "2022-05-24T10:38:57.545480Z",
     "shell.execute_reply": "2022-05-24T10:38:57.544490Z",
     "shell.execute_reply.started": "2022-05-24T10:38:57.529268Z"
    }
   },
   "outputs": [
    {
     "data": {
      "text/html": [
       "<div>\n",
       "<style scoped>\n",
       "    .dataframe tbody tr th:only-of-type {\n",
       "        vertical-align: middle;\n",
       "    }\n",
       "\n",
       "    .dataframe tbody tr th {\n",
       "        vertical-align: top;\n",
       "    }\n",
       "\n",
       "    .dataframe thead th {\n",
       "        text-align: right;\n",
       "    }\n",
       "</style>\n",
       "<table border=\"1\" class=\"dataframe\">\n",
       "  <thead>\n",
       "    <tr style=\"text-align: right;\">\n",
       "      <th></th>\n",
       "      <th>team</th>\n",
       "      <th>win_prob</th>\n",
       "    </tr>\n",
       "  </thead>\n",
       "  <tbody>\n",
       "    <tr>\n",
       "      <th>1</th>\n",
       "      <td>Gujarat Titans</td>\n",
       "      <td>52.95</td>\n",
       "    </tr>\n",
       "    <tr>\n",
       "      <th>2</th>\n",
       "      <td>Lucknow Super Giants</td>\n",
       "      <td>44.28</td>\n",
       "    </tr>\n",
       "    <tr>\n",
       "      <th>3</th>\n",
       "      <td>Rajasthan Royals</td>\n",
       "      <td>41.56</td>\n",
       "    </tr>\n",
       "    <tr>\n",
       "      <th>4</th>\n",
       "      <td>Royal Challengers Bangalore</td>\n",
       "      <td>15.73</td>\n",
       "    </tr>\n",
       "    <tr>\n",
       "      <th>5</th>\n",
       "      <td>Sunrisers Hyderabad</td>\n",
       "      <td>0.82</td>\n",
       "    </tr>\n",
       "    <tr>\n",
       "      <th>6</th>\n",
       "      <td>Punjab Kings</td>\n",
       "      <td>0.69</td>\n",
       "    </tr>\n",
       "    <tr>\n",
       "      <th>7</th>\n",
       "      <td>Delhi Capitals</td>\n",
       "      <td>0.17</td>\n",
       "    </tr>\n",
       "    <tr>\n",
       "      <th>8</th>\n",
       "      <td>Kolkata Knight Riders</td>\n",
       "      <td>0.06</td>\n",
       "    </tr>\n",
       "    <tr>\n",
       "      <th>9</th>\n",
       "      <td>Chennai Super Kings</td>\n",
       "      <td>0.03</td>\n",
       "    </tr>\n",
       "    <tr>\n",
       "      <th>10</th>\n",
       "      <td>Mumbai Indians</td>\n",
       "      <td>0.03</td>\n",
       "    </tr>\n",
       "  </tbody>\n",
       "</table>\n",
       "</div>"
      ],
      "text/plain": [
       "                           team  win_prob\n",
       "1                Gujarat Titans     52.95\n",
       "2          Lucknow Super Giants     44.28\n",
       "3              Rajasthan Royals     41.56\n",
       "4   Royal Challengers Bangalore     15.73\n",
       "5           Sunrisers Hyderabad      0.82\n",
       "6                  Punjab Kings      0.69\n",
       "7                Delhi Capitals      0.17\n",
       "8         Kolkata Knight Riders      0.06\n",
       "9           Chennai Super Kings      0.03\n",
       "10               Mumbai Indians      0.03"
      ]
     },
     "execution_count": 24,
     "metadata": {},
     "output_type": "execute_result"
    }
   ],
   "source": [
    "result = pd.DataFrame({\n",
    "    'team': list(data.iloc[-140:].team.unique()),\n",
    "    'win_prob': list(predictions.ravel() * 100)\n",
    "})\n",
    "\n",
    "result.win_prob = result.win_prob.astype(float).round(2)\n",
    "result.sort_values('win_prob', ascending = False, inplace = True, ignore_index = True)\n",
    "\n",
    "result.index += 1\n",
    "result"
   ]
  }
 ],
 "metadata": {
  "kernelspec": {
   "display_name": "Python 3 (ipykernel)",
   "language": "python",
   "name": "python3"
  },
  "language_info": {
   "codemirror_mode": {
    "name": "ipython",
    "version": 3
   },
   "file_extension": ".py",
   "mimetype": "text/x-python",
   "name": "python",
   "nbconvert_exporter": "python",
   "pygments_lexer": "ipython3",
   "version": "3.10.1"
  }
 },
 "nbformat": 4,
 "nbformat_minor": 4
}
